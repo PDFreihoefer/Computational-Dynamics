{
 "nbformat": 4,
 "nbformat_minor": 2,
 "metadata": {
  "language_info": {
   "name": "python",
   "codemirror_mode": {
    "name": "ipython",
    "version": 3
   },
   "version": "3.8.2-final"
  },
  "orig_nbformat": 2,
  "file_extension": ".py",
  "mimetype": "text/x-python",
  "name": "python",
  "npconvert_exporter": "python",
  "pygments_lexer": "ipython3",
  "version": 3,
  "kernelspec": {
   "name": "python38232bitd7e7a1b5a77c4528a4b238217901069f",
   "display_name": "Python 3.8.2 32-bit"
  }
 },
 "cells": [
  {
   "cell_type": "code",
   "execution_count": 77,
   "metadata": {},
   "outputs": [],
   "source": [
    "#Adding Sympy\n",
    "import sympy\n",
    "from sympy import *\n",
    "init_printing(use_latex=\"mathjax\", latex_mode=\"equation\")"
   ]
  },
  {
   "cell_type": "code",
   "execution_count": 78,
   "metadata": {},
   "outputs": [
    {
     "data": {
      "text/latex": "\\begin{equation}- c_{1} \\left(l_{1} Θd \\cos{\\left(Θ \\right)} - yd\\right) + c_{2} \\left(l_{2} Θd \\cos{\\left(Θ \\right)} + yd\\right) - k_{1} \\left(l_{01} + l_{1} \\sin{\\left(Θ \\right)} - y\\right) + k_{2} \\left(- l_{02} + l_{2} \\sin{\\left(Θ \\right)} + y\\right) + m ydd\\end{equation}",
      "text/plain": "-c₁⋅(l₁⋅Θd⋅cos(Θ) - yd) + c₂⋅(l₂⋅Θd⋅cos(Θ) + yd) - k₁⋅(l₀₁ + l₁⋅sin(Θ) - y) + \nk₂⋅(-l₀₂ + l₂⋅sin(Θ) + y) + m⋅ydd"
     },
     "execution_count": 78,
     "metadata": {},
     "output_type": "execute_result"
    }
   ],
   "source": [
    "#Creating all of the symbols that we will use in our equations\n",
    "Θ, Θd, Θdd, y, yd, ydd, l1, l2, l01, l02, k1, k2, c1, c2, m, Jg = symbols('Θ Θd Θdd y yd ydd l1 l2 l01 l02 k1 k2 c1 c2 m Jg')\n",
    "\n",
    "#Part A:Equations of motion derived by hand\n",
    "sumF = m*ydd - k1*(l1*sin(Θ)-(y-l01))-c1*(l1*cos(Θ)*Θd-yd)+k2*(l2*sin(Θ)+y-l02)+c2*(l2*cos(Θ)*Θd+yd) #In the jhat direction\n",
    "sumM = Jg*Θdd + k1*l1*cos(Θ)*(l1*sin(Θ)-(y-l01)) + c1*l1*cos(Θ)*(l1*cos(Θ)*Θd-yd) + k2*l2*cos(Θ)*(l2*sin(Θ)+y-l02)-c2*l2*cos(Θ)*(l2*cos(Θ)*Θd-yd) #In the khat direction\n",
    "\n",
    "#Sum of Forces\n",
    "sumF"
   ]
  },
  {
   "cell_type": "code",
   "execution_count": 79,
   "metadata": {},
   "outputs": [
    {
     "data": {
      "text/latex": "\\begin{equation}Jg Θdd + c_{1} l_{1} \\left(l_{1} Θd \\cos{\\left(Θ \\right)} - yd\\right) \\cos{\\left(Θ \\right)} - c_{2} l_{2} \\left(l_{2} Θd \\cos{\\left(Θ \\right)} - yd\\right) \\cos{\\left(Θ \\right)} + k_{1} l_{1} \\left(l_{01} + l_{1} \\sin{\\left(Θ \\right)} - y\\right) \\cos{\\left(Θ \\right)} + k_{2} l_{2} \\left(- l_{02} + l_{2} \\sin{\\left(Θ \\right)} + y\\right) \\cos{\\left(Θ \\right)}\\end{equation}",
      "text/plain": "Jg⋅Θdd + c₁⋅l₁⋅(l₁⋅Θd⋅cos(Θ) - yd)⋅cos(Θ) - c₂⋅l₂⋅(l₂⋅Θd⋅cos(Θ) - yd)⋅cos(Θ) +\n k₁⋅l₁⋅(l₀₁ + l₁⋅sin(Θ) - y)⋅cos(Θ) + k₂⋅l₂⋅(-l₀₂ + l₂⋅sin(Θ) + y)⋅cos(Θ)"
     },
     "execution_count": 79,
     "metadata": {},
     "output_type": "execute_result"
    }
   ],
   "source": [
    "#Sum of Moments\n",
    "sumM"
   ]
  },
  {
   "cell_type": "code",
   "execution_count": 80,
   "metadata": {},
   "outputs": [],
   "source": [
    "#Part B:    Now let's consider what happens at equilibrium for our equations and when the car is horizontal (Θ = Zero and let's assume that Y is 0)\n",
    "equilF = sumF.subs([(Θd, 0), (Θdd, 0), (yd, 0), (ydd,0), (Θ,0)])\n",
    "equilM = sumM.subs([(Θd, 0), (Θdd, 0), (yd, 0), (ydd,0), (Θ,0)])"
   ]
  },
  {
   "cell_type": "code",
   "execution_count": 81,
   "metadata": {},
   "outputs": [
    {
     "data": {
      "text/latex": "\\begin{equation}\\frac{k_{1} y - k_{2} l_{02} + k_{2} y}{k_{1}}\\end{equation}",
      "text/plain": "k₁⋅y - k₂⋅l₀₂ + k₂⋅y\n────────────────────\n         k₁         "
     },
     "execution_count": 81,
     "metadata": {},
     "output_type": "execute_result"
    }
   ],
   "source": [
    "l01F = solve(equilF, l01)[0]\n",
    "l01F"
   ]
  },
  {
   "cell_type": "code",
   "execution_count": 82,
   "metadata": {},
   "outputs": [
    {
     "data": {
      "text/latex": "\\begin{equation}\\frac{k_{1} l_{01} l_{1} - k_{1} l_{1} y + k_{2} l_{2} y}{k_{2} l_{2}}\\end{equation}",
      "text/plain": "k₁⋅l₀₁⋅l₁ - k₁⋅l₁⋅y + k₂⋅l₂⋅y\n─────────────────────────────\n            k₂⋅l₂            "
     },
     "execution_count": 82,
     "metadata": {},
     "output_type": "execute_result"
    }
   ],
   "source": [
    "l02M = solve(equilM, l02)[0]\n",
    "l02M"
   ]
  },
  {
   "cell_type": "code",
   "execution_count": 83,
   "metadata": {},
   "outputs": [
    {
     "data": {
      "text/latex": "\\begin{equation}\\frac{- l_{01} l_{1} + l_{1} y + l_{2} y}{l_{2}}\\end{equation}",
      "text/plain": "-l₀₁⋅l₁ + l₁⋅y + l₂⋅y\n─────────────────────\n          l₂         "
     },
     "execution_count": 83,
     "metadata": {},
     "output_type": "execute_result"
    }
   ],
   "source": [
    "l01A = l01F.subs([(\"l02\",l02M)])\n",
    "simplify(l01A)"
   ]
  },
  {
   "cell_type": "code",
   "execution_count": 84,
   "metadata": {},
   "outputs": [
    {
     "data": {
      "text/latex": "\\begin{equation}y\\end{equation}",
      "text/plain": "y"
     },
     "execution_count": 84,
     "metadata": {},
     "output_type": "execute_result"
    }
   ],
   "source": [
    "#From the above equation we can solve for l01 to be:\n",
    "l01Final = (l1*y+l2*y)/l2*1/(1+l1/l2)\n",
    "simplify(l01Final)"
   ]
  },
  {
   "cell_type": "code",
   "execution_count": 85,
   "metadata": {},
   "outputs": [],
   "source": [
    "#For some reason I couldn't wrap my head around this part. My understanding was to set everything with a dot to zero and the angle to zero to simulate the car being horizontal. Then you could solve for two conditions like k1 and k2 or l01 and l02. Then you would pick the value of the values you didn't solve for and that would tell you what conditions are required for the car to be horizontal at equilibrium."
   ]
  },
  {
   "cell_type": "code",
   "execution_count": 87,
   "metadata": {},
   "outputs": [],
   "source": [
    "#Part C: The linear equations of motion about equilibrium\n",
    "#I'm sure that I should be linearizing this using state space or taylor series approximations, but I have ran out of time for that so let's pull a classic Ansari. Let's assume that there are small oscillations about equilibrium which means sin(Θ) = Θ and cos(Θ) = 1\n",
    "\n",
    "equilFC = sumF.subs([(Θd, 0), (Θdd, 0), (yd, 0), (ydd,0), (sin(Θ),Θ), (cos(Θ),1)])\n",
    "equilMC = sumM.subs([(Θd, 0), (Θdd, 0), (yd, 0), (ydd,0), (sin(Θ),Θ), (cos(Θ),1)])"
   ]
  },
  {
   "cell_type": "code",
   "execution_count": 88,
   "metadata": {},
   "outputs": [
    {
     "data": {
      "text/latex": "\\begin{equation}- k_{1} \\left(l_{01} + l_{1} Θ - y\\right) + k_{2} \\left(- l_{02} + l_{2} Θ + y\\right)\\end{equation}",
      "text/plain": "-k₁⋅(l₀₁ + l₁⋅Θ - y) + k₂⋅(-l₀₂ + l₂⋅Θ + y)"
     },
     "execution_count": 88,
     "metadata": {},
     "output_type": "execute_result"
    }
   ],
   "source": [
    "#The results of this part.\n",
    "equilFC"
   ]
  },
  {
   "cell_type": "code",
   "execution_count": 89,
   "metadata": {},
   "outputs": [
    {
     "data": {
      "text/latex": "\\begin{equation}k_{1} l_{1} \\left(l_{01} + l_{1} Θ - y\\right) + k_{2} l_{2} \\left(- l_{02} + l_{2} Θ + y\\right)\\end{equation}",
      "text/plain": "k₁⋅l₁⋅(l₀₁ + l₁⋅Θ - y) + k₂⋅l₂⋅(-l₀₂ + l₂⋅Θ + y)"
     },
     "execution_count": 89,
     "metadata": {},
     "output_type": "execute_result"
    }
   ],
   "source": [
    "equilMC"
   ]
  }
 ]
}