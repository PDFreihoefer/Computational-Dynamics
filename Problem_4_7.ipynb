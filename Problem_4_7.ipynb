{
 "nbformat": 4,
 "nbformat_minor": 2,
 "metadata": {
  "language_info": {
   "name": "python",
   "codemirror_mode": {
    "name": "ipython",
    "version": 3
   }
  },
  "orig_nbformat": 2,
  "file_extension": ".py",
  "mimetype": "text/x-python",
  "name": "python",
  "npconvert_exporter": "python",
  "pygments_lexer": "ipython3",
  "version": 3,
  "kernelspec": {
   "name": "python38232bitd7e7a1b5a77c4528a4b238217901069f",
   "display_name": "Python 3.8.2 32-bit"
  }
 },
 "cells": [
  {
   "cell_type": "code",
   "execution_count": 118,
   "metadata": {},
   "outputs": [],
   "source": [
    "#Problem 4.7: The Pendulum of Doooooooooooooooooom\n",
    "#Adding Sympy\n",
    "import sympy\n",
    "from sympy import *\n",
    "init_printing(use_latex=\"mathjax\", latex_mode=\"equation\")"
   ]
  },
  {
   "cell_type": "code",
   "execution_count": 119,
   "metadata": {},
   "outputs": [],
   "source": [
    "#Given: A scary rotating pendulum.\n",
    "#Determine: The equations of motions.\n",
    "#Solution: We will use a more comfortable method and use Lagrange's Equations to determine the equations of motions for this system. The tricky part of this problem is to account for the rotating reference frame and having to remind ourselves what the derivative of a unit vector is...\n",
    "\n",
    "#We can start by creating all of the necessary symbols\n",
    "d, Jg, Θ, L, m, ome, Lo, g, t, i, j, k, rp, K = symbols(\"d J_g Θ L m_p Omega L_o g t ihat jhat khat \\overrightarrow{r_p} k\") \n",
    "\n",
    "Θ = Function(\"Θ\")(t)\n",
    "L = Function(\"L\")(t)\n",
    "ome = Function(\"Omega\")(t)"
   ]
  },
  {
   "cell_type": "code",
   "execution_count": 120,
   "metadata": {},
   "outputs": [
    {
     "data": {
      "text/latex": "\\begin{equation}d \\hat{i} + \\left(\\hat{i} \\sin{\\left(Θ{\\left(t \\right)} \\right)} - \\hat{k} \\cos{\\left(Θ{\\left(t \\right)} \\right)}\\right) L{\\left(t \\right)}\\end{equation}",
      "text/plain": "d⋅î + (î⋅sin(Θ(t)) - k̂⋅cos(Θ(t)))⋅L(t)"
     },
     "execution_count": 120,
     "metadata": {},
     "output_type": "execute_result"
    }
   ],
   "source": [
    "#We need T (Kinetic Energy) and V (Potential Energy) for the Lagrangian. We will start by defining important things like our position vector for particle P\n",
    "rP = d*i+L*(sin(Θ)*i-cos(Θ)*k)\n",
    "rP"
   ]
  },
  {
   "cell_type": "code",
   "execution_count": 121,
   "metadata": {},
   "outputs": [],
   "source": [
    "#We will want to establish our i, j, and k coordinates as matrices so we can take the dot product and cross product in the following steps\n",
    "iH = Matrix([1,0,0])\n",
    "jH = Matrix([0,1,0])\n",
    "kH = Matrix([0,0,1])"
   ]
  },
  {
   "cell_type": "code",
   "execution_count": 122,
   "metadata": {},
   "outputs": [
    {
     "data": {
      "text/latex": "\\begin{equation}- g m_{p} L{\\left(t \\right)} \\cos{\\left(Θ{\\left(t \\right)} \\right)}\\end{equation}",
      "text/plain": "-g⋅mₚ⋅L(t)⋅cos(Θ(t))"
     },
     "execution_count": 122,
     "metadata": {},
     "output_type": "execute_result"
    }
   ],
   "source": [
    "#Now we can build the potential energy of the mass\n",
    "V_g = m*g*rP.subs([(i,iH),(j,jH),(k,kH)]).dot(kH)\n",
    "\n",
    "#We know that a unit vector dotted with itself is just 1\n",
    "V_g"
   ]
  },
  {
   "cell_type": "code",
   "execution_count": 123,
   "metadata": {},
   "outputs": [
    {
     "data": {
      "text/latex": "\\begin{equation}\\frac{k \\left(- L_{o} + L{\\left(t \\right)}\\right)^{2}}{2}\\end{equation}",
      "text/plain": "              2\nk⋅(-Lₒ + L(t)) \n───────────────\n       2       "
     },
     "execution_count": 123,
     "metadata": {},
     "output_type": "execute_result"
    }
   ],
   "source": [
    "#Now we build the potential energy due to the spring\n",
    "V_e = Rational(1,2)*K*(L-Lo)**2\n",
    "V_e"
   ]
  },
  {
   "cell_type": "code",
   "execution_count": 124,
   "metadata": {},
   "outputs": [],
   "source": [
    "#We know that V is the summation of all potential energy in the system\n",
    "V = V_g+V_e"
   ]
  },
  {
   "cell_type": "code",
   "execution_count": 125,
   "metadata": {},
   "outputs": [
    {
     "data": {
      "text/latex": "\\begin{equation}\\frac{J_{g} \\Omega^{2}{\\left(t \\right)}}{2}\\end{equation}",
      "text/plain": "     2   \nJ_g⋅Ω (t)\n─────────\n    2    "
     },
     "execution_count": 125,
     "metadata": {},
     "output_type": "execute_result"
    }
   ],
   "source": [
    "#Now we move on to the trickier part... Kinetic Energy\n",
    "\n",
    "#The kinetic energy of the base rod that is spinning is pretty easy\n",
    "T_f = Rational(1,2)*Jg*ome**2\n",
    "T_f"
   ]
  },
  {
   "cell_type": "code",
   "execution_count": 126,
   "metadata": {},
   "outputs": [
    {
     "data": {
      "text/latex": "\\begin{equation}d \\hat{i} + \\left(\\hat{i} \\sin{\\left(Θ{\\left(t \\right)} \\right)} - \\hat{k} \\cos{\\left(Θ{\\left(t \\right)} \\right)}\\right) L{\\left(t \\right)}\\end{equation}",
      "text/plain": "d⋅î + (î⋅sin(Θ(t)) - k̂⋅cos(Θ(t)))⋅L(t)"
     },
     "execution_count": 126,
     "metadata": {},
     "output_type": "execute_result"
    }
   ],
   "source": [
    "#Now we need to consider the kinetic energy of our particle which becomes trickier because of the \"V^2\" term. Which is now the derivative of the position vector \"rp\" dotted with itself\n",
    "\n",
    "#Let's break it up into parts and start with the derivative of the position vector. Recall that rp is as follows\n",
    "rP"
   ]
  },
  {
   "cell_type": "code",
   "execution_count": 127,
   "metadata": {},
   "outputs": [
    {
     "data": {
      "text/latex": "\\begin{equation}\\overrightarrow{\\omega} X \\overrightarrow{U}\\end{equation}",
      "text/plain": "\\overrightarrow{\\omega} X \\overrightarrow{U}"
     },
     "execution_count": 127,
     "metadata": {},
     "output_type": "execute_result"
    }
   ],
   "source": [
    "#The derivative of this vector is a summation of product rules for each piece. We have to recall the derivative of a unit vector. Which is:\n",
    "diffU = Symbol(\"\\overrightarrow{\\omega} X \\overrightarrow{U}\")\n",
    "diffU"
   ]
  },
  {
   "cell_type": "code",
   "execution_count": 128,
   "metadata": {},
   "outputs": [
    {
     "data": {
      "text/latex": "\\begin{equation}\\left[\\begin{matrix}L{\\left(t \\right)} \\cos{\\left(Θ{\\left(t \\right)} \\right)} \\frac{d}{d t} Θ{\\left(t \\right)} + \\sin{\\left(Θ{\\left(t \\right)} \\right)} \\frac{d}{d t} L{\\left(t \\right)}\\\\0\\\\L{\\left(t \\right)} \\sin{\\left(Θ{\\left(t \\right)} \\right)} \\frac{d}{d t} Θ{\\left(t \\right)} - \\cos{\\left(Θ{\\left(t \\right)} \\right)} \\frac{d}{d t} L{\\left(t \\right)}\\end{matrix}\\right]\\end{equation}",
      "text/plain": "⎡               d                    d       ⎤\n⎢L(t)⋅cos(Θ(t))⋅──(Θ(t)) + sin(Θ(t))⋅──(L(t))⎥\n⎢               dt                   dt      ⎥\n⎢                                            ⎥\n⎢                     0                      ⎥\n⎢                                            ⎥\n⎢               d                    d       ⎥\n⎢L(t)⋅sin(Θ(t))⋅──(Θ(t)) - cos(Θ(t))⋅──(L(t))⎥\n⎣               dt                   dt      ⎦"
     },
     "execution_count": 128,
     "metadata": {},
     "output_type": "execute_result"
    }
   ],
   "source": [
    "#In our case the omega is just Omega*khat\n",
    "#Now we can take the derivative for the body\n",
    "rPM = rP.subs([(i,iH),(j,jH),(k,kH)])\n",
    "rPD1 = diff(rPM,t)\n",
    "rPD1"
   ]
  },
  {
   "cell_type": "code",
   "execution_count": 129,
   "metadata": {},
   "outputs": [
    {
     "data": {
      "text/latex": "\\begin{equation}\\left[\\begin{matrix}0\\\\d \\Omega{\\left(t \\right)} + L{\\left(t \\right)} \\Omega{\\left(t \\right)} \\sin{\\left(Θ{\\left(t \\right)} \\right)}\\\\0\\end{matrix}\\right]\\end{equation}",
      "text/plain": "⎡             0              ⎤\n⎢                            ⎥\n⎢d⋅Ω(t) + L(t)⋅Ω(t)⋅sin(Θ(t))⎥\n⎢                            ⎥\n⎣             0              ⎦"
     },
     "execution_count": 129,
     "metadata": {},
     "output_type": "execute_result"
    }
   ],
   "source": [
    "#Now we will take the derivative for each unit vector\n",
    "iD = d*ome*kH.cross(iH)+L*sin(Θ)*ome*kH.cross(iH)\n",
    "iD"
   ]
  },
  {
   "cell_type": "code",
   "execution_count": 130,
   "metadata": {},
   "outputs": [
    {
     "data": {
      "text/latex": "\\begin{equation}\\left[\\begin{matrix}0\\\\0\\\\0\\end{matrix}\\right]\\end{equation}",
      "text/plain": "⎡0⎤\n⎢ ⎥\n⎢0⎥\n⎢ ⎥\n⎣0⎦"
     },
     "execution_count": 130,
     "metadata": {},
     "output_type": "execute_result"
    }
   ],
   "source": [
    "kD = -L*cos(Θ)*ome*kH.cross(kH)\n",
    "kD"
   ]
  },
  {
   "cell_type": "code",
   "execution_count": 131,
   "metadata": {},
   "outputs": [
    {
     "data": {
      "text/latex": "\\begin{equation}\\left[\\begin{matrix}L{\\left(t \\right)} \\cos{\\left(Θ{\\left(t \\right)} \\right)} \\frac{d}{d t} Θ{\\left(t \\right)} + \\sin{\\left(Θ{\\left(t \\right)} \\right)} \\frac{d}{d t} L{\\left(t \\right)}\\\\d \\Omega{\\left(t \\right)} + L{\\left(t \\right)} \\Omega{\\left(t \\right)} \\sin{\\left(Θ{\\left(t \\right)} \\right)}\\\\L{\\left(t \\right)} \\sin{\\left(Θ{\\left(t \\right)} \\right)} \\frac{d}{d t} Θ{\\left(t \\right)} - \\cos{\\left(Θ{\\left(t \\right)} \\right)} \\frac{d}{d t} L{\\left(t \\right)}\\end{matrix}\\right]\\end{equation}",
      "text/plain": "⎡               d                    d       ⎤\n⎢L(t)⋅cos(Θ(t))⋅──(Θ(t)) + sin(Θ(t))⋅──(L(t))⎥\n⎢               dt                   dt      ⎥\n⎢                                            ⎥\n⎢        d⋅Ω(t) + L(t)⋅Ω(t)⋅sin(Θ(t))        ⎥\n⎢                                            ⎥\n⎢               d                    d       ⎥\n⎢L(t)⋅sin(Θ(t))⋅──(Θ(t)) - cos(Θ(t))⋅──(L(t))⎥\n⎣               dt                   dt      ⎦"
     },
     "execution_count": 131,
     "metadata": {},
     "output_type": "execute_result"
    }
   ],
   "source": [
    "#Now we combine\n",
    "rPDB = rPD1+iD+kD\n",
    "rPDB"
   ]
  },
  {
   "cell_type": "code",
   "execution_count": 132,
   "metadata": {},
   "outputs": [
    {
     "data": {
      "text/latex": "\\begin{equation}\\hat{i} \\left(L{\\left(t \\right)} \\cos{\\left(Θ{\\left(t \\right)} \\right)} \\frac{d}{d t} Θ{\\left(t \\right)} + \\sin{\\left(Θ{\\left(t \\right)} \\right)} \\frac{d}{d t} L{\\left(t \\right)}\\right) + \\hat{j} \\left(d \\Omega{\\left(t \\right)} + L{\\left(t \\right)} \\Omega{\\left(t \\right)} \\sin{\\left(Θ{\\left(t \\right)} \\right)}\\right) + \\hat{k} \\left(L{\\left(t \\right)} \\sin{\\left(Θ{\\left(t \\right)} \\right)} \\frac{d}{d t} Θ{\\left(t \\right)} - \\cos{\\left(Θ{\\left(t \\right)} \\right)} \\frac{d}{d t} L{\\left(t \\right)}\\right)\\end{equation}",
      "text/plain": "  ⎛               d                    d       ⎞                              \nî⋅⎜L(t)⋅cos(Θ(t))⋅──(Θ(t)) + sin(Θ(t))⋅──(L(t))⎟ + ĵ⋅(d⋅Ω(t) + L(t)⋅Ω(t)⋅sin\n  ⎝               dt                   dt      ⎠                              \n\n          ⎛               d                    d       ⎞\n(Θ(t))) + k̂⋅⎜L(t)⋅sin(Θ(t))⋅──(Θ(t)) - cos(Θ(t))⋅──(L(t))⎟\n          ⎝               dt                   dt      ⎠"
     },
     "execution_count": 132,
     "metadata": {},
     "output_type": "execute_result"
    }
   ],
   "source": [
    "#Now we can rewrite this to be in one line with the expected coordinate directions\n",
    "rPDB.dot([i,j,k])"
   ]
  },
  {
   "cell_type": "code",
   "execution_count": 133,
   "metadata": {},
   "outputs": [
    {
     "data": {
      "text/latex": "\\begin{equation}\\hat{j} \\left(d + L{\\left(t \\right)} \\sin{\\left(Θ{\\left(t \\right)} \\right)}\\right) \\Omega{\\left(t \\right)}\\end{equation}",
      "text/plain": "ĵ⋅(d + L(t)⋅sin(Θ(t)))⋅Ω(t)"
     },
     "execution_count": 133,
     "metadata": {},
     "output_type": "execute_result"
    }
   ],
   "source": [
    "#This gives us the derivative of the postion vector with respect to the body and now we just need to consider the other frame of reference\n",
    "NwB = ome*kH.cross(rPM)\n",
    "NwB.dot([i,j,k])"
   ]
  },
  {
   "cell_type": "code",
   "execution_count": 134,
   "metadata": {},
   "outputs": [
    {
     "data": {
      "text/latex": "\\begin{equation}\\hat{i} \\left(L{\\left(t \\right)} \\cos{\\left(Θ{\\left(t \\right)} \\right)} \\frac{d}{d t} Θ{\\left(t \\right)} + \\sin{\\left(Θ{\\left(t \\right)} \\right)} \\frac{d}{d t} L{\\left(t \\right)}\\right) + \\hat{j} \\left(d \\Omega{\\left(t \\right)} + \\left(d + L{\\left(t \\right)} \\sin{\\left(Θ{\\left(t \\right)} \\right)}\\right) \\Omega{\\left(t \\right)} + L{\\left(t \\right)} \\Omega{\\left(t \\right)} \\sin{\\left(Θ{\\left(t \\right)} \\right)}\\right) + \\hat{k} \\left(L{\\left(t \\right)} \\sin{\\left(Θ{\\left(t \\right)} \\right)} \\frac{d}{d t} Θ{\\left(t \\right)} - \\cos{\\left(Θ{\\left(t \\right)} \\right)} \\frac{d}{d t} L{\\left(t \\right)}\\right)\\end{equation}",
      "text/plain": "  ⎛               d                    d       ⎞                              \nî⋅⎜L(t)⋅cos(Θ(t))⋅──(Θ(t)) + sin(Θ(t))⋅──(L(t))⎟ + ĵ⋅(d⋅Ω(t) + (d + L(t)⋅sin\n  ⎝               dt                   dt      ⎠                              \n\n                                      ⎛               d                    d  \n(Θ(t)))⋅Ω(t) + L(t)⋅Ω(t)⋅sin(Θ(t))) + k̂⋅⎜L(t)⋅sin(Θ(t))⋅──(Θ(t)) - cos(Θ(t))⋅\n                                      ⎝               dt                   dt \n\n     ⎞\n──(L(t))⎟\n     ⎠"
     },
     "execution_count": 134,
     "metadata": {},
     "output_type": "execute_result"
    }
   ],
   "source": [
    "#Finally we have the actual derivative of vector rp\n",
    "rPD = rPDB+NwB\n",
    "rPD.dot([i,j,k])"
   ]
  },
  {
   "cell_type": "code",
   "execution_count": 135,
   "metadata": {},
   "outputs": [
    {
     "data": {
      "text/latex": "\\begin{equation}\\frac{m_{p} \\left(\\left(L{\\left(t \\right)} \\sin{\\left(Θ{\\left(t \\right)} \\right)} \\frac{d}{d t} Θ{\\left(t \\right)} - \\cos{\\left(Θ{\\left(t \\right)} \\right)} \\frac{d}{d t} L{\\left(t \\right)}\\right)^{2} + \\left(L{\\left(t \\right)} \\cos{\\left(Θ{\\left(t \\right)} \\right)} \\frac{d}{d t} Θ{\\left(t \\right)} + \\sin{\\left(Θ{\\left(t \\right)} \\right)} \\frac{d}{d t} L{\\left(t \\right)}\\right)^{2} + \\left(d \\Omega{\\left(t \\right)} + \\left(d + L{\\left(t \\right)} \\sin{\\left(Θ{\\left(t \\right)} \\right)}\\right) \\Omega{\\left(t \\right)} + L{\\left(t \\right)} \\Omega{\\left(t \\right)} \\sin{\\left(Θ{\\left(t \\right)} \\right)}\\right)^{2}\\right)}{2}\\end{equation}",
      "text/plain": "   ⎛                                              2                           \n   ⎜⎛               d                    d       ⎞    ⎛               d       \nmₚ⋅⎜⎜L(t)⋅sin(Θ(t))⋅──(Θ(t)) - cos(Θ(t))⋅──(L(t))⎟  + ⎜L(t)⋅cos(Θ(t))⋅──(Θ(t))\n   ⎝⎝               dt                   dt      ⎠    ⎝               dt      \n──────────────────────────────────────────────────────────────────────────────\n                                                                              \n\n                      2                                                       \n             d       ⎞                                                        \n + sin(Θ(t))⋅──(L(t))⎟  + (d⋅Ω(t) + (d + L(t)⋅sin(Θ(t)))⋅Ω(t) + L(t)⋅Ω(t)⋅sin(\n             dt      ⎠                                                        \n──────────────────────────────────────────────────────────────────────────────\n   2                                                                          \n\n       ⎞\n      2⎟\nΘ(t))) ⎟\n       ⎠\n────────\n        "
     },
     "execution_count": 135,
     "metadata": {},
     "output_type": "execute_result"
    }
   ],
   "source": [
    "#Now we can build the kinetic energy of the particle\n",
    "T_p = Rational(1,2)*m*rPD.dot(rPD)\n",
    "T_p"
   ]
  },
  {
   "cell_type": "code",
   "execution_count": 136,
   "metadata": {},
   "outputs": [
    {
     "data": {
      "text/latex": "\\begin{equation}\\frac{J_{g} \\Omega^{2}{\\left(t \\right)}}{2} + \\frac{m_{p} \\left(\\left(L{\\left(t \\right)} \\sin{\\left(Θ{\\left(t \\right)} \\right)} \\frac{d}{d t} Θ{\\left(t \\right)} - \\cos{\\left(Θ{\\left(t \\right)} \\right)} \\frac{d}{d t} L{\\left(t \\right)}\\right)^{2} + \\left(L{\\left(t \\right)} \\cos{\\left(Θ{\\left(t \\right)} \\right)} \\frac{d}{d t} Θ{\\left(t \\right)} + \\sin{\\left(Θ{\\left(t \\right)} \\right)} \\frac{d}{d t} L{\\left(t \\right)}\\right)^{2} + \\left(d \\Omega{\\left(t \\right)} + \\left(d + L{\\left(t \\right)} \\sin{\\left(Θ{\\left(t \\right)} \\right)}\\right) \\Omega{\\left(t \\right)} + L{\\left(t \\right)} \\Omega{\\left(t \\right)} \\sin{\\left(Θ{\\left(t \\right)} \\right)}\\right)^{2}\\right)}{2}\\end{equation}",
      "text/plain": "               ⎛                                              2               \n               ⎜⎛               d                    d       ⎞    ⎛           \n     2      mₚ⋅⎜⎜L(t)⋅sin(Θ(t))⋅──(Θ(t)) - cos(Θ(t))⋅──(L(t))⎟  + ⎜L(t)⋅cos(Θ(\nJ_g⋅Ω (t)      ⎝⎝               dt                   dt      ⎠    ⎝           \n───────── + ──────────────────────────────────────────────────────────────────\n    2                                                                         \n\n                                  2                                           \n    d                    d       ⎞                                            \nt))⋅──(Θ(t)) + sin(Θ(t))⋅──(L(t))⎟  + (d⋅Ω(t) + (d + L(t)⋅sin(Θ(t)))⋅Ω(t) + L(\n    dt                   dt      ⎠                                            \n──────────────────────────────────────────────────────────────────────────────\n               2                                                              \n\n                   ⎞\n                  2⎟\nt)⋅Ω(t)⋅sin(Θ(t))) ⎟\n                   ⎠\n────────────────────\n                    "
     },
     "execution_count": 136,
     "metadata": {},
     "output_type": "execute_result"
    }
   ],
   "source": [
    "#Building T\n",
    "T = T_f+T_p\n",
    "T"
   ]
  },
  {
   "cell_type": "code",
   "execution_count": 137,
   "metadata": {},
   "outputs": [],
   "source": [
    "#Now that we have T and V we just need to go through the process of creating our lagrangian and considering the generalized forces\n",
    "La = T-V\n",
    "La\n",
    "\n",
    "#Generalized Forces, We have 3 generalized directions...\n",
    "Torq = Symbol(\"tau\") #Our Moment is the torque of the system in the positive khat direction\n",
    "Q_Ome = Torq*kH.dot(diff(ome*kH,ome))\n",
    "\n",
    "Q_Θ = Torq*kH.dot(diff(ome*kH-diff(Θ,t)*jH,diff(Θ,t)))\n",
    "\n",
    "Q_L = Torq*kH.dot(diff(ome*kH-diff(Θ,t)*jH,diff(L,t)))"
   ]
  },
  {
   "cell_type": "code",
   "execution_count": 138,
   "metadata": {},
   "outputs": [
    {
     "data": {
      "text/latex": "\\begin{equation}\\tau\\end{equation}",
      "text/plain": "τ"
     },
     "execution_count": 138,
     "metadata": {},
     "output_type": "execute_result"
    }
   ],
   "source": [
    "Q_Ome"
   ]
  },
  {
   "cell_type": "code",
   "execution_count": 139,
   "metadata": {},
   "outputs": [
    {
     "data": {
      "text/latex": "\\begin{equation}0\\end{equation}",
      "text/plain": "0"
     },
     "execution_count": 139,
     "metadata": {},
     "output_type": "execute_result"
    }
   ],
   "source": [
    "Q_Θ"
   ]
  },
  {
   "cell_type": "code",
   "execution_count": 140,
   "metadata": {},
   "outputs": [
    {
     "data": {
      "text/latex": "\\begin{equation}0\\end{equation}",
      "text/plain": "0"
     },
     "execution_count": 140,
     "metadata": {},
     "output_type": "execute_result"
    }
   ],
   "source": [
    "Q_L"
   ]
  },
  {
   "cell_type": "code",
   "execution_count": 142,
   "metadata": {},
   "outputs": [],
   "source": [
    "#This works out nicely because everything ends up being 0 other than the generalized force with respect to Omega which is just the torque (which also makes sense).\n",
    "#Finally we can derive our equations of motion from the Lagrangian and will receive three different equations of motion.\n",
    "eqOme = diff(diff(La,diff(ome,t)),t)-diff(La,ome)+Q_Ome\n",
    "eqΘ = diff(diff(La,diff(Θ,t)),t)-diff(La,Θ)+Q_Θ\n",
    "eqL = diff(diff(La,diff(L,t)),t)-diff(La,L)+Q_L"
   ]
  },
  {
   "cell_type": "code",
   "execution_count": 145,
   "metadata": {},
   "outputs": [
    {
     "data": {
      "text/latex": "\\begin{equation}- J_{g} \\Omega{\\left(t \\right)} - 4 m_{p} \\left(d + L{\\left(t \\right)} \\sin{\\left(Θ{\\left(t \\right)} \\right)}\\right)^{2} \\Omega{\\left(t \\right)} + \\tau\\end{equation}",
      "text/plain": "                                     2         \n-J_g⋅Ω(t) - 4⋅mₚ⋅(d + L(t)⋅sin(Θ(t))) ⋅Ω(t) + τ"
     },
     "execution_count": 145,
     "metadata": {},
     "output_type": "execute_result"
    }
   ],
   "source": [
    "#Now we will display our results\n",
    "simplify(eqOme)"
   ]
  },
  {
   "cell_type": "code",
   "execution_count": 144,
   "metadata": {},
   "outputs": [
    {
     "data": {
      "text/latex": "\\begin{equation}m_{p} \\left(- 4 d \\Omega^{2}{\\left(t \\right)} \\cos{\\left(Θ{\\left(t \\right)} \\right)} + g \\sin{\\left(Θ{\\left(t \\right)} \\right)} - 2 L{\\left(t \\right)} \\Omega^{2}{\\left(t \\right)} \\sin{\\left(2 Θ{\\left(t \\right)} \\right)} + L{\\left(t \\right)} \\frac{d^{2}}{d t^{2}} Θ{\\left(t \\right)} + 2 \\frac{d}{d t} L{\\left(t \\right)} \\frac{d}{d t} Θ{\\left(t \\right)}\\right) L{\\left(t \\right)}\\end{equation}",
      "text/plain": "   ⎛                                                                        2 \n   ⎜       2                                      2                        d  \nmₚ⋅⎜- 4⋅d⋅Ω (t)⋅cos(Θ(t)) + g⋅sin(Θ(t)) - 2⋅L(t)⋅Ω (t)⋅sin(2⋅Θ(t)) + L(t)⋅───(\n   ⎜                                                                        2 \n   ⎝                                                                      dt  \n\n                           ⎞     \n          d        d       ⎟     \nΘ(t)) + 2⋅──(L(t))⋅──(Θ(t))⎟⋅L(t)\n          dt       dt      ⎟     \n                           ⎠     "
     },
     "execution_count": 144,
     "metadata": {},
     "output_type": "execute_result"
    }
   ],
   "source": [
    "simplify(eqΘ)"
   ]
  },
  {
   "cell_type": "code",
   "execution_count": 146,
   "metadata": {},
   "outputs": [
    {
     "data": {
      "text/latex": "\\begin{equation}- L_{o} k - 4 d m_{p} \\Omega^{2}{\\left(t \\right)} \\sin{\\left(Θ{\\left(t \\right)} \\right)} - g m_{p} \\cos{\\left(Θ{\\left(t \\right)} \\right)} + k L{\\left(t \\right)} - 4 m_{p} L{\\left(t \\right)} \\Omega^{2}{\\left(t \\right)} \\sin^{2}{\\left(Θ{\\left(t \\right)} \\right)} - m_{p} L{\\left(t \\right)} \\left(\\frac{d}{d t} Θ{\\left(t \\right)}\\right)^{2} + m_{p} \\frac{d^{2}}{d t^{2}} L{\\left(t \\right)}\\end{equation}",
      "text/plain": "                                                                              \n                2                                                     2       \n-Lₒ⋅k - 4⋅d⋅mₚ⋅Ω (t)⋅sin(Θ(t)) - g⋅mₚ⋅cos(Θ(t)) + k⋅L(t) - 4⋅mₚ⋅L(t)⋅Ω (t)⋅sin\n                                                                              \n                                                                              \n\n                            2        2      \n2                 ⎛d       ⎞        d       \n (Θ(t)) - mₚ⋅L(t)⋅⎜──(Θ(t))⎟  + mₚ⋅───(L(t))\n                  ⎝dt      ⎠         2      \n                                   dt       "
     },
     "execution_count": 146,
     "metadata": {},
     "output_type": "execute_result"
    }
   ],
   "source": [
    "simplify(eqL)"
   ]
  },
  {
   "cell_type": "code",
   "execution_count": null,
   "metadata": {},
   "outputs": [],
   "source": [
    "#And now if we wanted to do more all we would have to do is solve some nonlinear second order ODEs. I'm sure ODE45 can do that just fine..."
   ]
  }
 ]
}