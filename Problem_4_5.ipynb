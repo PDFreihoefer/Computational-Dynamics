{
 "nbformat": 4,
 "nbformat_minor": 2,
 "metadata": {
  "language_info": {
   "name": "python",
   "codemirror_mode": {
    "name": "ipython",
    "version": 3
   },
   "version": "3.8.0-final"
  },
  "orig_nbformat": 2,
  "file_extension": ".py",
  "mimetype": "text/x-python",
  "name": "python",
  "npconvert_exporter": "python",
  "pygments_lexer": "ipython3",
  "version": 3,
  "kernelspec": {
   "name": "python38232bitd7e7a1b5a77c4528a4b238217901069f",
   "display_name": "Python 3.8.2 32-bit"
  }
 },
 "cells": [
  {
   "cell_type": "code",
   "execution_count": 32,
   "metadata": {},
   "outputs": [],
   "source": [
    "#Importing Sympy\n",
    "import sympy\n",
    "from sympy import *\n",
    "init_printing(use_latex=\"mathjax\", latex_mode=\"equation\")"
   ]
  },
  {
   "cell_type": "code",
   "execution_count": 33,
   "metadata": {},
   "outputs": [],
   "source": [
    "#Creating all of the symbols that we will use in our equations\n",
    "Θ, Θ0, y, l, l0, k1, kt, m, Jg, t, g = symbols('Θ Θ_0 y l l_0  k_1 k_t m J_g t g')\n",
    "\n",
    "Θ = Function('Θ')(t)\n",
    "y = Function('y')(t)"
   ]
  },
  {
   "cell_type": "code",
   "execution_count": 34,
   "metadata": {},
   "outputs": [],
   "source": [
    "#Part A:\n",
    "#Creating our postion vector\n",
    "rG = Matrix([-l*cos(Θ),-y-l*sin(Θ)])\n",
    "\n",
    "#Taking the derivative\n",
    "rGD = diff(rG,t)\n",
    "\n",
    "#Taking the dot product\n",
    "rGT = rGD.dot(rGD)"
   ]
  },
  {
   "cell_type": "code",
   "execution_count": 35,
   "metadata": {},
   "outputs": [
    {
     "data": {
      "text/latex": "\\begin{equation}\\frac{J_{g} \\left(\\frac{d}{d t} Θ{\\left(t \\right)}\\right)^{2}}{2} - g m \\left(l \\sin{\\left(Θ{\\left(t \\right)} \\right)} + y{\\left(t \\right)}\\right) - \\frac{k_{1} \\left(- l_{0} + y{\\left(t \\right)}\\right)^{2}}{2} - \\frac{k_{t} \\left(- Θ_{0} + Θ{\\left(t \\right)}\\right)^{2}}{2} + \\frac{m \\left(l^{2} \\sin^{2}{\\left(Θ{\\left(t \\right)} \\right)} \\left(\\frac{d}{d t} Θ{\\left(t \\right)}\\right)^{2} + \\left(- l \\cos{\\left(Θ{\\left(t \\right)} \\right)} \\frac{d}{d t} Θ{\\left(t \\right)} - \\frac{d}{d t} y{\\left(t \\right)}\\right)^{2}\\right)}{2}\\end{equation}",
      "text/plain": "              2                                                               \n    ⎛d       ⎞                                                                \nJ_g⋅⎜──(Θ(t))⎟                                              2                 \n    ⎝dt      ⎠                               k₁⋅(-l₀ + y(t))    kₜ⋅(-Θ₀ + Θ(t)\n─────────────── - g⋅m⋅(l⋅sin(Θ(t)) + y(t)) - ──────────────── - ──────────────\n       2                                            2                  2      \n\n       ⎛                        2                                      2⎞\n       ⎜ 2    2       ⎛d       ⎞    ⎛              d          d       ⎞ ⎟\n 2   m⋅⎜l ⋅sin (Θ(t))⋅⎜──(Θ(t))⎟  + ⎜- l⋅cos(Θ(t))⋅──(Θ(t)) - ──(y(t))⎟ ⎟\n)      ⎝              ⎝dt      ⎠    ⎝              dt         dt      ⎠ ⎠\n── + ────────────────────────────────────────────────────────────────────\n                                      2                                  "
     },
     "execution_count": 35,
     "metadata": {},
     "output_type": "execute_result"
    }
   ],
   "source": [
    "#Creating T and V\n",
    "T = Rational(1,2)*m*rGT+Rational(1,2)*Jg*diff(Θ,t)**2\n",
    "V = Rational(1,2)*k1*(y-l0)**2+Rational(1,2)*kt*(Θ-Θ0)**2+m*g*(y+l*sin(Θ))\n",
    "\n",
    "#Creating the lagrangian\n",
    "L = T-V\n",
    "L"
   ]
  },
  {
   "cell_type": "code",
   "execution_count": 36,
   "metadata": {},
   "outputs": [],
   "source": [
    "#Now we create our equations of motion\n",
    "eq1 = diff(diff(L,diff(y,t)),t)-diff(L,y)\n",
    "eq2 = diff(diff(L,diff(Θ,t)),t)-diff(L,Θ)"
   ]
  },
  {
   "cell_type": "code",
   "execution_count": 37,
   "metadata": {},
   "outputs": [
    {
     "data": {
      "text/latex": "\\begin{equation}g m - k_{1} \\left(l_{0} - y{\\left(t \\right)}\\right) + m \\left(- l \\sin{\\left(Θ{\\left(t \\right)} \\right)} \\left(\\frac{d}{d t} Θ{\\left(t \\right)}\\right)^{2} + l \\cos{\\left(Θ{\\left(t \\right)} \\right)} \\frac{d^{2}}{d t^{2}} Θ{\\left(t \\right)} + \\frac{d^{2}}{d t^{2}} y{\\left(t \\right)}\\right)\\end{equation}",
      "text/plain": "                         ⎛                        2                 2         \n                         ⎜              ⎛d       ⎞                 d          \ng⋅m - k₁⋅(l₀ - y(t)) + m⋅⎜- l⋅sin(Θ(t))⋅⎜──(Θ(t))⎟  + l⋅cos(Θ(t))⋅───(Θ(t)) + \n                         ⎜              ⎝dt      ⎠                  2         \n                         ⎝                                        dt          \n\n  2      ⎞\n d       ⎟\n───(y(t))⎟\n  2      ⎟\ndt       ⎠"
     },
     "execution_count": 37,
     "metadata": {},
     "output_type": "execute_result"
    }
   ],
   "source": [
    "#Displaying our Results for Part A\n",
    "simplify(eq1)"
   ]
  },
  {
   "cell_type": "code",
   "execution_count": 38,
   "metadata": {},
   "outputs": [
    {
     "data": {
      "text/latex": "\\begin{equation}J_{g} \\frac{d^{2}}{d t^{2}} Θ{\\left(t \\right)} + g l m \\cos{\\left(Θ{\\left(t \\right)} \\right)} - k_{t} Θ_{0} + k_{t} Θ{\\left(t \\right)} + l^{2} m \\frac{d^{2}}{d t^{2}} Θ{\\left(t \\right)} + l m \\cos{\\left(Θ{\\left(t \\right)} \\right)} \\frac{d^{2}}{d t^{2}} y{\\left(t \\right)}\\end{equation}",
      "text/plain": "      2                                                    2                  \n     d                                               2    d                   \nJ_g⋅───(Θ(t)) + g⋅l⋅m⋅cos(Θ(t)) - kₜ⋅Θ₀ + kₜ⋅Θ(t) + l ⋅m⋅───(Θ(t)) + l⋅m⋅cos(Θ\n      2                                                    2                  \n    dt                                                   dt                   \n\n       2      \n      d       \n(t))⋅───(y(t))\n       2      \n     dt       "
     },
     "execution_count": 38,
     "metadata": {},
     "output_type": "execute_result"
    }
   ],
   "source": [
    "simplify(eq2)"
   ]
  },
  {
   "cell_type": "code",
   "execution_count": 39,
   "metadata": {},
   "outputs": [
    {
     "data": {
      "text/latex": "\\begin{equation}\\frac{J_{g} \\left(\\frac{d}{d t} Θ{\\left(t \\right)}\\right)^{2}}{2} + g m \\left(l \\sin{\\left(Θ{\\left(t \\right)} \\right)} + y{\\left(t \\right)}\\right) + \\frac{k_{1} \\left(- l_{0} + y{\\left(t \\right)}\\right)^{2}}{2} + \\frac{k_{t} \\left(- Θ_{0} + Θ{\\left(t \\right)}\\right)^{2}}{2} + \\frac{m \\left(l^{2} \\sin^{2}{\\left(Θ{\\left(t \\right)} \\right)} \\left(\\frac{d}{d t} Θ{\\left(t \\right)}\\right)^{2} + \\left(- l \\cos{\\left(Θ{\\left(t \\right)} \\right)} \\frac{d}{d t} Θ{\\left(t \\right)} - \\frac{d}{d t} y{\\left(t \\right)}\\right)^{2}\\right)}{2}\\end{equation}",
      "text/plain": "              2                                                               \n    ⎛d       ⎞                                                                \nJ_g⋅⎜──(Θ(t))⎟                                              2                 \n    ⎝dt      ⎠                               k₁⋅(-l₀ + y(t))    kₜ⋅(-Θ₀ + Θ(t)\n─────────────── + g⋅m⋅(l⋅sin(Θ(t)) + y(t)) + ──────────────── + ──────────────\n       2                                            2                  2      \n\n       ⎛                        2                                      2⎞\n       ⎜ 2    2       ⎛d       ⎞    ⎛              d          d       ⎞ ⎟\n 2   m⋅⎜l ⋅sin (Θ(t))⋅⎜──(Θ(t))⎟  + ⎜- l⋅cos(Θ(t))⋅──(Θ(t)) - ──(y(t))⎟ ⎟\n)      ⎝              ⎝dt      ⎠    ⎝              dt         dt      ⎠ ⎠\n── + ────────────────────────────────────────────────────────────────────\n                                      2                                  "
     },
     "execution_count": 39,
     "metadata": {},
     "output_type": "execute_result"
    }
   ],
   "source": [
    "#Part B:\n",
    "#Now we want the Hamiltonian which is very similar to our lagrangian except this is the \"total energy of the system\"\n",
    "H = T+V\n",
    "H"
   ]
  },
  {
   "cell_type": "code",
   "execution_count": 40,
   "metadata": {},
   "outputs": [],
   "source": [
    "#Now we need momentum which we can derive from the lagrangian\n",
    "pY = diff(L,diff(y,t))\n",
    "pΘ = diff(L,diff(Θ,t))\n",
    "\n",
    "#Generalized forces\n",
    "qY = 0\n",
    "qΘ = 0\n",
    "\n",
    "#We need to establish momentum as a symbol\n",
    "py, pT = symbols(\"pY pΘ\")\n"
   ]
  },
  {
   "cell_type": "code",
   "execution_count": 41,
   "metadata": {},
   "outputs": [
    {
     "data": {
      "text/latex": "\\begin{equation}\\frac{m \\left(2 l \\cos{\\left(Θ{\\left(t \\right)} \\right)} \\frac{d}{d t} Θ{\\left(t \\right)} + 2 \\frac{d}{d t} y{\\left(t \\right)}\\right)}{2}\\end{equation}",
      "text/plain": "  ⎛              d            d       ⎞\nm⋅⎜2⋅l⋅cos(Θ(t))⋅──(Θ(t)) + 2⋅──(y(t))⎟\n  ⎝              dt           dt      ⎠\n───────────────────────────────────────\n                   2                   "
     },
     "execution_count": 41,
     "metadata": {},
     "output_type": "execute_result"
    }
   ],
   "source": [
    "pY"
   ]
  },
  {
   "cell_type": "code",
   "execution_count": 42,
   "metadata": {},
   "outputs": [
    {
     "data": {
      "text/latex": "\\begin{equation}J_{g} \\frac{d}{d t} Θ{\\left(t \\right)} + \\frac{m \\left(2 l^{2} \\sin^{2}{\\left(Θ{\\left(t \\right)} \\right)} \\frac{d}{d t} Θ{\\left(t \\right)} - 2 l \\left(- l \\cos{\\left(Θ{\\left(t \\right)} \\right)} \\frac{d}{d t} Θ{\\left(t \\right)} - \\frac{d}{d t} y{\\left(t \\right)}\\right) \\cos{\\left(Θ{\\left(t \\right)} \\right)}\\right)}{2}\\end{equation}",
      "text/plain": "                 ⎛   2    2       d              ⎛              d          d  \n               m⋅⎜2⋅l ⋅sin (Θ(t))⋅──(Θ(t)) - 2⋅l⋅⎜- l⋅cos(Θ(t))⋅──(Θ(t)) - ──(\n    d            ⎝                dt             ⎝              dt         dt \nJ_g⋅──(Θ(t)) + ───────────────────────────────────────────────────────────────\n    dt                                                2                       \n\n     ⎞          ⎞\ny(t))⎟⋅cos(Θ(t))⎟\n     ⎠          ⎠\n─────────────────\n                 "
     },
     "execution_count": 42,
     "metadata": {},
     "output_type": "execute_result"
    }
   ],
   "source": [
    "pΘ"
   ]
  },
  {
   "cell_type": "code",
   "execution_count": 43,
   "metadata": {},
   "outputs": [],
   "source": [
    "#Solving for the two derivatives of the generalized directions for a substitution\n",
    "yD = solve(pY-py, diff(y,t))[0]\n",
    "ΘD = solve(pΘ-pT, diff(Θ,t))[0]"
   ]
  },
  {
   "cell_type": "code",
   "execution_count": 44,
   "metadata": {},
   "outputs": [
    {
     "data": {
      "text/latex": "\\begin{equation}- l \\cos{\\left(Θ{\\left(t \\right)} \\right)} \\frac{d}{d t} Θ{\\left(t \\right)} + \\frac{pY}{m}\\end{equation}",
      "text/plain": "              d          pY\n- l⋅cos(Θ(t))⋅──(Θ(t)) + ──\n              dt         m "
     },
     "execution_count": 44,
     "metadata": {},
     "output_type": "execute_result"
    }
   ],
   "source": [
    "yD"
   ]
  },
  {
   "cell_type": "code",
   "execution_count": 45,
   "metadata": {},
   "outputs": [
    {
     "data": {
      "text/latex": "\\begin{equation}\\frac{- l m \\cos{\\left(Θ{\\left(t \\right)} \\right)} \\frac{d}{d t} y{\\left(t \\right)} + pΘ}{J_{g} + l^{2} m}\\end{equation}",
      "text/plain": "                d            \n- l⋅m⋅cos(Θ(t))⋅──(y(t)) + pΘ\n                dt           \n─────────────────────────────\n                 2           \n          J_g + l ⋅m         "
     },
     "execution_count": 45,
     "metadata": {},
     "output_type": "execute_result"
    }
   ],
   "source": [
    "ΘD"
   ]
  },
  {
   "cell_type": "code",
   "execution_count": 46,
   "metadata": {},
   "outputs": [
    {
     "data": {
      "text/latex": "\\begin{equation}\\frac{J_{g} \\left(- l m \\left(- l \\cos{\\left(Θ{\\left(t \\right)} \\right)} \\frac{d}{d t} Θ{\\left(t \\right)} + \\frac{pY}{m}\\right) \\cos{\\left(Θ{\\left(t \\right)} \\right)} + pΘ\\right)^{2}}{2 \\left(J_{g} + l^{2} m\\right)^{2}} + g m \\left(l \\sin{\\left(Θ{\\left(t \\right)} \\right)} + y{\\left(t \\right)}\\right) + \\frac{k_{1} \\left(- l_{0} + y{\\left(t \\right)}\\right)^{2}}{2} + \\frac{k_{t} \\left(- Θ_{0} + Θ{\\left(t \\right)}\\right)^{2}}{2} + \\frac{m \\left(\\frac{l^{2} \\left(- l m \\left(- l \\cos{\\left(Θ{\\left(t \\right)} \\right)} \\frac{d}{d t} Θ{\\left(t \\right)} + \\frac{pY}{m}\\right) \\cos{\\left(Θ{\\left(t \\right)} \\right)} + pΘ\\right)^{2} \\sin^{2}{\\left(Θ{\\left(t \\right)} \\right)}}{\\left(J_{g} + l^{2} m\\right)^{2}} + \\left(l \\cos{\\left(Θ{\\left(t \\right)} \\right)} \\frac{d}{d t} Θ{\\left(t \\right)} - \\frac{l \\left(- l m \\left(- l \\cos{\\left(Θ{\\left(t \\right)} \\right)} \\frac{d}{d t} Θ{\\left(t \\right)} + \\frac{pY}{m}\\right) \\cos{\\left(Θ{\\left(t \\right)} \\right)} + pΘ\\right) \\cos{\\left(Θ{\\left(t \\right)} \\right)}}{J_{g} + l^{2} m} - \\frac{pY}{m}\\right)^{2}\\right)}{2}\\end{equation}",
      "text/plain": "                                                                              \n                                                                              \n                                                                              \n                                                                              \n                                                        2                     \n    ⎛      ⎛              d          pY⎞               ⎞                      \nJ_g⋅⎜- l⋅m⋅⎜- l⋅cos(Θ(t))⋅──(Θ(t)) + ──⎟⋅cos(Θ(t)) + pΘ⎟                      \n    ⎝      ⎝              dt         m ⎠               ⎠                      \n───────────────────────────────────────────────────────── + g⋅m⋅(l⋅sin(Θ(t)) +\n                                   2                                          \n                       ⎛       2  ⎞                                           \n                     2⋅⎝J_g + l ⋅m⎠                                           \n\n                                                 ⎛                            \n                                                 ⎜ 2 ⎛      ⎛              d  \n                                                 ⎜l ⋅⎜- l⋅m⋅⎜- l⋅cos(Θ(t))⋅──(\n                                                 ⎜   ⎝      ⎝              dt \n                                               m⋅⎜────────────────────────────\n                                                 ⎜                            \n                        2                  2     ⎜                           ⎛\n         k₁⋅(-l₀ + y(t))    kₜ⋅(-Θ₀ + Θ(t))      ⎝                           ⎝\n y(t)) + ──────────────── + ──────────────── + ───────────────────────────────\n                2                  2                                          \n                                                                              \n                                                                              \n\n                           2                                                  \n        pY⎞               ⎞     2         ⎛                         ⎛      ⎛  \nΘ(t)) + ──⎟⋅cos(Θ(t)) + pΘ⎟ ⋅sin (Θ(t))   ⎜                       l⋅⎜- l⋅m⋅⎜- \n        m ⎠               ⎠               ⎜            d            ⎝      ⎝  \n─────────────────────────────────────── + ⎜l⋅cos(Θ(t))⋅──(Θ(t)) - ────────────\n           2                              ⎜            dt                     \n       2  ⎞                               ⎝                                   \nJ_g + l ⋅m⎠                                                                   \n──────────────────────────────────────────────────────────────────────────────\n                                                     2                        \n                                                                              \n                                                                              \n\n                                                          2⎞\n            d          pY⎞               ⎞               ⎞ ⎟\nl⋅cos(Θ(t))⋅──(Θ(t)) + ──⎟⋅cos(Θ(t)) + pΘ⎟⋅cos(Θ(t))     ⎟ ⎟\n            dt         m ⎠               ⎠             pY⎟ ⎟\n──────────────────────────────────────────────────── - ──⎟ ⎟\n                      2                                m ⎟ ⎟\n               J_g + l ⋅m                                ⎠ ⎟\n                                                           ⎠\n────────────────────────────────────────────────────────────\n                                                            \n                                                            \n                                                            "
     },
     "execution_count": 46,
     "metadata": {},
     "output_type": "execute_result"
    }
   ],
   "source": [
    "#Now we make the substitution\n",
    "Hnew = H.subs([(diff(Θ,t), ΘD), (diff(y,t),yD)])\n",
    "Hnew"
   ]
  },
  {
   "cell_type": "code",
   "execution_count": 47,
   "metadata": {},
   "outputs": [],
   "source": [
    "#Now we can actually build Hamilton's equations and because of our two generalized directions we will have 4 first order equations as a result\n",
    "pDY = -diff(Hnew,y)+qY\n",
    "qDY = diff(Hnew,py)\n",
    "pDΘ = -diff(Hnew,Θ)+qΘ\n",
    "qDΘ = diff(Hnew,pT)"
   ]
  },
  {
   "cell_type": "code",
   "execution_count": 55,
   "metadata": {},
   "outputs": [
    {
     "data": {
      "text/latex": "\\begin{equation}- g m + k_{1} \\left(l_{0} - y{\\left(t \\right)}\\right)\\end{equation}",
      "text/plain": "-g⋅m + k₁⋅(l₀ - y(t))"
     },
     "execution_count": 55,
     "metadata": {},
     "output_type": "execute_result"
    }
   ],
   "source": [
    "#Displaying our results for Part B\n",
    "simplify(pDY)"
   ]
  },
  {
   "cell_type": "code",
   "execution_count": 52,
   "metadata": {},
   "outputs": [
    {
     "data": {
      "text/latex": "\\begin{equation}\\frac{- J_{g} l m \\cos{\\left(Θ{\\left(t \\right)} \\right)} \\frac{d}{d t} Θ{\\left(t \\right)} + J_{g} pY + l^{3} m^{2} \\cos^{3}{\\left(Θ{\\left(t \\right)} \\right)} \\frac{d}{d t} Θ{\\left(t \\right)} - l^{3} m^{2} \\cos{\\left(Θ{\\left(t \\right)} \\right)} \\frac{d}{d t} Θ{\\left(t \\right)} + l^{2} m pY \\sin^{2}{\\left(Θ{\\left(t \\right)} \\right)}}{m \\left(J_{g} + l^{2} m\\right)}\\end{equation}",
      "text/plain": "                    d                    3  2    3       d           3  2     \n- J_g⋅l⋅m⋅cos(Θ(t))⋅──(Θ(t)) + J_g⋅pY + l ⋅m ⋅cos (Θ(t))⋅──(Θ(t)) - l ⋅m ⋅cos(\n                    dt                                   dt                   \n──────────────────────────────────────────────────────────────────────────────\n                                                    ⎛       2  ⎞              \n                                                  m⋅⎝J_g + l ⋅m⎠              \n\n      d           2         2      \nΘ(t))⋅──(Θ(t)) + l ⋅m⋅pY⋅sin (Θ(t))\n      dt                           \n───────────────────────────────────\n                                   \n                                   "
     },
     "execution_count": 52,
     "metadata": {},
     "output_type": "execute_result"
    }
   ],
   "source": [
    "simplify(qDY)"
   ]
  },
  {
   "cell_type": "code",
   "execution_count": 53,
   "metadata": {},
   "outputs": [
    {
     "data": {
      "text/latex": "\\begin{equation}- \\frac{4 J_{g} g l m \\cos{\\left(Θ{\\left(t \\right)} \\right)} - 4 J_{g} k_{t} Θ_{0} + 4 J_{g} k_{t} Θ{\\left(t \\right)} - 2 J_{g} l^{2} m \\sin{\\left(2 Θ{\\left(t \\right)} \\right)} \\left(\\frac{d}{d t} Θ{\\left(t \\right)}\\right)^{2} + 4 J_{g} l pY \\sin{\\left(Θ{\\left(t \\right)} \\right)} \\frac{d}{d t} Θ{\\left(t \\right)} + 4 g l^{3} m^{2} \\cos{\\left(Θ{\\left(t \\right)} \\right)} - 4 k_{t} l^{2} m Θ_{0} + 4 k_{t} l^{2} m Θ{\\left(t \\right)} + l^{4} m^{2} \\sin{\\left(4 Θ{\\left(t \\right)} \\right)} \\left(\\frac{d}{d t} Θ{\\left(t \\right)}\\right)^{2} + l^{3} m pY \\sin{\\left(Θ{\\left(t \\right)} \\right)} \\frac{d}{d t} Θ{\\left(t \\right)} - 3 l^{3} m pY \\sin{\\left(3 Θ{\\left(t \\right)} \\right)} \\frac{d}{d t} Θ{\\left(t \\right)} + 2 l^{2} pY^{2} \\sin{\\left(2 Θ{\\left(t \\right)} \\right)}}{4 J_{g} + 4 l^{2} m}\\end{equation}",
      "text/plain": " ⎛                                                                            \n ⎜                                                             2              \n-⎜4⋅J_g⋅g⋅l⋅m⋅cos(Θ(t)) - 4⋅J_g⋅kₜ⋅Θ₀ + 4⋅J_g⋅kₜ⋅Θ(t) - 2⋅J_g⋅l ⋅m⋅sin(2⋅Θ(t))\n ⎝                                                                            \n──────────────────────────────────────────────────────────────────────────────\n                                                                              \n                                                                              \n\n           2                                                                  \n ⎛d       ⎞                         d               3  2                   2  \n⋅⎜──(Θ(t))⎟  + 4⋅J_g⋅l⋅pY⋅sin(Θ(t))⋅──(Θ(t)) + 4⋅g⋅l ⋅m ⋅cos(Θ(t)) - 4⋅kₜ⋅l ⋅m\n ⎝dt      ⎠                         dt                                        \n──────────────────────────────────────────────────────────────────────────────\n                                                                          2   \n                                                               4⋅J_g + 4⋅l ⋅m \n\n                                                   2                          \n            2           4  2             ⎛d       ⎞     3                d    \n⋅Θ₀ + 4⋅kₜ⋅l ⋅m⋅Θ(t) + l ⋅m ⋅sin(4⋅Θ(t))⋅⎜──(Θ(t))⎟  + l ⋅m⋅pY⋅sin(Θ(t))⋅──(Θ(\n                                         ⎝dt      ⎠                      dt   \n──────────────────────────────────────────────────────────────────────────────\n                                                                              \n                                                                              \n\n                                                           ⎞ \n         3                  d             2   2            ⎟ \nt)) - 3⋅l ⋅m⋅pY⋅sin(3⋅Θ(t))⋅──(Θ(t)) + 2⋅l ⋅pY ⋅sin(2⋅Θ(t))⎟ \n                            dt                             ⎠ \n─────────────────────────────────────────────────────────────\n                                                             \n                                                             "
     },
     "execution_count": 53,
     "metadata": {},
     "output_type": "execute_result"
    }
   ],
   "source": [
    "simplify(pDΘ)"
   ]
  },
  {
   "cell_type": "code",
   "execution_count": 54,
   "metadata": {},
   "outputs": [
    {
     "data": {
      "text/latex": "\\begin{equation}\\frac{pΘ}{J_{g} + l^{2} m}\\end{equation}",
      "text/plain": "    pΘ    \n──────────\n       2  \nJ_g + l ⋅m"
     },
     "execution_count": 54,
     "metadata": {},
     "output_type": "execute_result"
    }
   ],
   "source": [
    "simplify(qDΘ)"
   ]
  }
 ]
}