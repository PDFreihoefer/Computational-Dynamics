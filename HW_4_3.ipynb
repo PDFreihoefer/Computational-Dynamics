{
 "nbformat": 4,
 "nbformat_minor": 2,
 "metadata": {
  "language_info": {
   "name": "python",
   "codemirror_mode": {
    "name": "ipython",
    "version": 3
   },
   "version": "3.8.2-final"
  },
  "orig_nbformat": 2,
  "file_extension": ".py",
  "mimetype": "text/x-python",
  "name": "python",
  "npconvert_exporter": "python",
  "pygments_lexer": "ipython3",
  "version": 3,
  "kernelspec": {
   "name": "python38064bitda5fd43ecece4569aa998dfb50d7f73a",
   "display_name": "Python 3.8.0 64-bit"
  }
 },
 "cells": [
  {
   "cell_type": "code",
   "execution_count": 2,
   "metadata": {},
   "outputs": [],
   "source": [
    "#Adding Sympy\n",
    "import sympy\n",
    "from sympy import *\n",
    "init_printing(use_latex=\"mathjax\", latex_mode=\"equation\")"
   ]
  },
  {
   "cell_type": "code",
   "execution_count": 3,
   "metadata": {},
   "outputs": [
    {
     "data": {
      "text/latex": "\\begin{equation}- c_{1} \\left(l_{1} Θd \\cos{\\left(Θ \\right)} - yd\\right) + c_{2} \\left(l_{2} Θd \\cos{\\left(Θ \\right)} + yd\\right) - k_{1} \\left(l_{01} + l_{1} \\sin{\\left(Θ \\right)} - y\\right) + k_{2} \\left(- l_{02} + l_{2} \\sin{\\left(Θ \\right)} + y\\right) + m ydd\\end{equation}",
      "text/plain": "-c₁⋅(l₁⋅Θd⋅cos(Θ) - yd) + c₂⋅(l₂⋅Θd⋅cos(Θ) + yd) - k₁⋅(l₀₁ + l₁⋅sin(Θ) - y) + \nk₂⋅(-l₀₂ + l₂⋅sin(Θ) + y) + m⋅ydd"
     },
     "execution_count": 3,
     "metadata": {},
     "output_type": "execute_result"
    }
   ],
   "source": [
    "#Creating all of the symbols that we will use in our equations\n",
    "Θ, Θd, Θdd, y, yd, ydd, l1, l2, l01, l02, k1, k2, c1, c2, m, Jg = symbols('Θ Θd Θdd y yd ydd l1 l2 l01 l02 k1 k2 c1 c2 m Jg')\n",
    "\n",
    "#Equations of motion\n",
    "sumF = m*ydd - k1*(l1*sin(Θ)-(y-l01))-c1*(l1*cos(Θ)*Θd-yd)+k2*(l2*sin(Θ)+y-l02)+c2*(l2*cos(Θ)*Θd+yd)\n",
    "sumM = Jg*Θdd + k1*l1*cos(Θ)*(l1*sin(Θ)-(y-l01)) + c1*l1*cos(Θ)*(l1*cos(Θ)*Θd-yd) + k2*l2*cos(Θ)*(l2*sin(Θ)+y-l02)-c2*l2*cos(Θ)*(l2*cos(Θ)*Θd-yd)\n",
    "\n",
    "#Sum of Forces\n",
    "sumF"
   ]
  },
  {
   "cell_type": "code",
   "execution_count": 4,
   "metadata": {},
   "outputs": [
    {
     "data": {
      "text/latex": "\\begin{equation}Jg Θdd + c_{1} l_{1} \\left(l_{1} Θd \\cos{\\left(Θ \\right)} - yd\\right) \\cos{\\left(Θ \\right)} - c_{2} l_{2} \\left(l_{2} Θd \\cos{\\left(Θ \\right)} - yd\\right) \\cos{\\left(Θ \\right)} + k_{1} l_{1} \\left(l_{01} + l_{1} \\sin{\\left(Θ \\right)} - y\\right) \\cos{\\left(Θ \\right)} + k_{2} l_{2} \\left(- l_{02} + l_{2} \\sin{\\left(Θ \\right)} + y\\right) \\cos{\\left(Θ \\right)}\\end{equation}",
      "text/plain": "Jg⋅Θdd + c₁⋅l₁⋅(l₁⋅Θd⋅cos(Θ) - yd)⋅cos(Θ) - c₂⋅l₂⋅(l₂⋅Θd⋅cos(Θ) - yd)⋅cos(Θ) +\n k₁⋅l₁⋅(l₀₁ + l₁⋅sin(Θ) - y)⋅cos(Θ) + k₂⋅l₂⋅(-l₀₂ + l₂⋅sin(Θ) + y)⋅cos(Θ)"
     },
     "execution_count": 4,
     "metadata": {},
     "output_type": "execute_result"
    }
   ],
   "source": [
    "#Sum of Moments\n",
    "sumM"
   ]
  },
  {
   "cell_type": "code",
   "execution_count": 5,
   "metadata": {},
   "outputs": [],
   "source": [
    "#Now let's consider what happens at equilibrium for our equations and when the car is horizontal (Θ = Zero)\n",
    "equilF = sumF.subs([(Θd, 0), (Θdd, 0), (yd, 0), (ydd,0), (Θ,0)])\n",
    "equilM = sumM.subs([(Θd, 0), (Θdd, 0), (yd, 0), (ydd,0), (Θ,0)])"
   ]
  },
  {
   "cell_type": "code",
   "execution_count": 6,
   "metadata": {},
   "outputs": [
    {
     "data": {
      "text/latex": "\\begin{equation}\\frac{k_{2} \\left(- l_{02} + y\\right)}{l_{01} - y}\\end{equation}",
      "text/plain": "k₂⋅(-l₀₂ + y)\n─────────────\n   l₀₁ - y   "
     },
     "execution_count": 6,
     "metadata": {},
     "output_type": "execute_result"
    }
   ],
   "source": [
    "k1F = solve(equilF, k1)[0]\n",
    "k1F"
   ]
  },
  {
   "cell_type": "code",
   "execution_count": 7,
   "metadata": {},
   "outputs": [
    {
     "data": {
      "text/latex": "\\begin{equation}\\frac{k_{1} l_{1} y + k_{2} l_{02} l_{2} - k_{2} l_{2} y}{k_{1} l_{1}}\\end{equation}",
      "text/plain": "k₁⋅l₁⋅y + k₂⋅l₀₂⋅l₂ - k₂⋅l₂⋅y\n─────────────────────────────\n            k₁⋅l₁            "
     },
     "execution_count": 7,
     "metadata": {},
     "output_type": "execute_result"
    }
   ],
   "source": [
    "l01M = solve(equilM, l01)[0]\n",
    "l01M"
   ]
  },
  {
   "cell_type": "code",
   "execution_count": 8,
   "metadata": {},
   "outputs": [
    {
     "data": {
      "text/latex": "\\begin{equation}\\frac{\\left(l_{01} - y\\right) \\left(k_{2} l_{02} l_{2} + \\frac{k_{2} l_{1} y \\left(- l_{02} + y\\right)}{l_{01} - y} - k_{2} l_{2} y\\right)}{k_{2} l_{1} \\left(- l_{02} + y\\right)}\\end{equation}",
      "text/plain": "          ⎛            k₂⋅l₁⋅y⋅(-l₀₂ + y)          ⎞\n(l₀₁ - y)⋅⎜k₂⋅l₀₂⋅l₂ + ────────────────── - k₂⋅l₂⋅y⎟\n          ⎝                 l₀₁ - y                ⎠\n────────────────────────────────────────────────────\n                  k₂⋅l₁⋅(-l₀₂ + y)                  "
     },
     "execution_count": 8,
     "metadata": {},
     "output_type": "execute_result"
    }
   ],
   "source": [
    "l01RHS = l01M.subs(k1,k1F)\n",
    "l01RHS"
   ]
  },
  {
   "cell_type": "code",
   "execution_count": 9,
   "metadata": {},
   "outputs": [
    {
     "data": {
      "text/latex": "\\begin{equation}\\left[ \\right]\\end{equation}",
      "text/plain": "[]"
     },
     "execution_count": 9,
     "metadata": {},
     "output_type": "execute_result"
    }
   ],
   "source": [
    "l01Val = solve(l01RHS-l01, l01)\n",
    "l01Val"
   ]
  },
  {
   "cell_type": "code",
   "execution_count": null,
   "metadata": {},
   "outputs": [],
   "source": []
  }
 ]
}