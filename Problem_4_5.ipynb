{
 "nbformat": 4,
 "nbformat_minor": 2,
 "metadata": {
  "language_info": {
   "name": "python",
   "codemirror_mode": {
    "name": "ipython",
    "version": 3
   },
   "version": "3.8.0-final"
  },
  "orig_nbformat": 2,
  "file_extension": ".py",
  "mimetype": "text/x-python",
  "name": "python",
  "npconvert_exporter": "python",
  "pygments_lexer": "ipython3",
  "version": 3,
  "kernelspec": {
   "name": "python38064bitda5fd43ecece4569aa998dfb50d7f73a",
   "display_name": "Python 3.8.0 64-bit"
  }
 },
 "cells": [
  {
   "cell_type": "code",
   "execution_count": 12,
   "metadata": {},
   "outputs": [],
   "source": [
    "#Importing Sympy\n",
    "import sympy\n",
    "from sympy import *\n",
    "init_printing(use_latex=\"mathjax\", latex_mode=\"equation\")"
   ]
  },
  {
   "cell_type": "code",
   "execution_count": 13,
   "metadata": {},
   "outputs": [],
   "source": [
    "#Creating all of the symbols that we will use in our equations\n",
    "Θ, Θ0, y, l, l0, k1, kt, m, Jg, t, g = symbols('Θ Θ_0 y l l_0  k_1 k_t m J_g t g')\n",
    "\n",
    "Θ = Function('Θ')(t)\n",
    "y = Function('y')(t)"
   ]
  },
  {
   "cell_type": "code",
   "execution_count": 14,
   "metadata": {},
   "outputs": [],
   "source": [
    "#Creating our postion vector\n",
    "rG = Matrix([-l*cos(Θ),-y-l*sin(Θ)])\n",
    "\n",
    "#Taking the derivative\n",
    "rGD = diff(rG,t)\n",
    "\n",
    "#Taking the dot product\n",
    "rGT = rGD.dot(rGD)"
   ]
  },
  {
   "cell_type": "code",
   "execution_count": 15,
   "metadata": {},
   "outputs": [
    {
     "data": {
      "text/latex": "\\begin{equation}\\frac{J_{g} \\left(\\frac{d}{d t} Θ{\\left(t \\right)}\\right)^{2}}{2} - g m \\left(l \\sin{\\left(Θ{\\left(t \\right)} \\right)} + y{\\left(t \\right)}\\right) - \\frac{k_{1} \\left(- l_{0} + y{\\left(t \\right)}\\right)^{2}}{2} - \\frac{k_{t} \\left(- Θ_{0} + Θ{\\left(t \\right)}\\right)^{2}}{2} + \\frac{m \\left(l^{2} \\sin^{2}{\\left(Θ{\\left(t \\right)} \\right)} \\left(\\frac{d}{d t} Θ{\\left(t \\right)}\\right)^{2} + \\left(- l \\cos{\\left(Θ{\\left(t \\right)} \\right)} \\frac{d}{d t} Θ{\\left(t \\right)} - \\frac{d}{d t} y{\\left(t \\right)}\\right)^{2}\\right)}{2}\\end{equation}",
      "text/plain": "              2                                                               \n    ⎛d       ⎞                                                                \nJ_g⋅⎜──(Θ(t))⎟                                              2                 \n    ⎝dt      ⎠                               k₁⋅(-l₀ + y(t))    kₜ⋅(-Θ₀ + Θ(t)\n─────────────── - g⋅m⋅(l⋅sin(Θ(t)) + y(t)) - ──────────────── - ──────────────\n       2                                            2                  2      \n\n       ⎛                        2                                      2⎞\n       ⎜ 2    2       ⎛d       ⎞    ⎛              d          d       ⎞ ⎟\n 2   m⋅⎜l ⋅sin (Θ(t))⋅⎜──(Θ(t))⎟  + ⎜- l⋅cos(Θ(t))⋅──(Θ(t)) - ──(y(t))⎟ ⎟\n)      ⎝              ⎝dt      ⎠    ⎝              dt         dt      ⎠ ⎠\n── + ────────────────────────────────────────────────────────────────────\n                                      2                                  "
     },
     "execution_count": 15,
     "metadata": {},
     "output_type": "execute_result"
    }
   ],
   "source": [
    "#Creating T and V\n",
    "T = Rational(1,2)*m*rGT+Rational(1,2)*Jg*diff(Θ,t)**2\n",
    "V = Rational(1,2)*k1*(y-l0)**2+Rational(1,2)*kt*(Θ-Θ0)**2+m*g*(y+l*sin(Θ))\n",
    "\n",
    "#Creating the lagrangian\n",
    "L = T-V\n",
    "L"
   ]
  },
  {
   "cell_type": "code",
   "execution_count": 16,
   "metadata": {},
   "outputs": [],
   "source": [
    "#Now we create our equations of motion\n",
    "eq1 = diff(diff(L,diff(y,t)),t)-diff(L,y)\n",
    "eq2 = diff(diff(L,diff(Θ,t)),t)-diff(L,Θ)"
   ]
  },
  {
   "cell_type": "code",
   "execution_count": 17,
   "metadata": {},
   "outputs": [
    {
     "data": {
      "text/latex": "\\begin{equation}g m - k_{1} \\left(l_{0} - y{\\left(t \\right)}\\right) + m \\left(- l \\sin{\\left(Θ{\\left(t \\right)} \\right)} \\left(\\frac{d}{d t} Θ{\\left(t \\right)}\\right)^{2} + l \\cos{\\left(Θ{\\left(t \\right)} \\right)} \\frac{d^{2}}{d t^{2}} Θ{\\left(t \\right)} + \\frac{d^{2}}{d t^{2}} y{\\left(t \\right)}\\right)\\end{equation}",
      "text/plain": "                         ⎛                        2                 2         \n                         ⎜              ⎛d       ⎞                 d          \ng⋅m - k₁⋅(l₀ - y(t)) + m⋅⎜- l⋅sin(Θ(t))⋅⎜──(Θ(t))⎟  + l⋅cos(Θ(t))⋅───(Θ(t)) + \n                         ⎜              ⎝dt      ⎠                  2         \n                         ⎝                                        dt          \n\n  2      ⎞\n d       ⎟\n───(y(t))⎟\n  2      ⎟\ndt       ⎠"
     },
     "execution_count": 17,
     "metadata": {},
     "output_type": "execute_result"
    }
   ],
   "source": [
    "#Displaying our Equations\n",
    "simplify(eq1)"
   ]
  },
  {
   "cell_type": "code",
   "execution_count": 18,
   "metadata": {},
   "outputs": [
    {
     "data": {
      "text/latex": "\\begin{equation}J_{g} \\frac{d^{2}}{d t^{2}} Θ{\\left(t \\right)} + g l m \\cos{\\left(Θ{\\left(t \\right)} \\right)} - k_{t} Θ_{0} + k_{t} Θ{\\left(t \\right)} + l^{2} m \\frac{d^{2}}{d t^{2}} Θ{\\left(t \\right)} + l m \\cos{\\left(Θ{\\left(t \\right)} \\right)} \\frac{d^{2}}{d t^{2}} y{\\left(t \\right)}\\end{equation}",
      "text/plain": "      2                                                    2                  \n     d                                               2    d                   \nJ_g⋅───(Θ(t)) + g⋅l⋅m⋅cos(Θ(t)) - kₜ⋅Θ₀ + kₜ⋅Θ(t) + l ⋅m⋅───(Θ(t)) + l⋅m⋅cos(Θ\n      2                                                    2                  \n    dt                                                   dt                   \n\n       2      \n      d       \n(t))⋅───(y(t))\n       2      \n     dt       "
     },
     "execution_count": 18,
     "metadata": {},
     "output_type": "execute_result"
    }
   ],
   "source": [
    "simplify(eq2)"
   ]
  },
  {
   "cell_type": "code",
   "execution_count": null,
   "metadata": {},
   "outputs": [],
   "source": [
    "#Now we want the Hamiltonian\n"
   ]
  }
 ]
}