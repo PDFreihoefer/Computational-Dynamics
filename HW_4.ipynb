{
 "nbformat": 4,
 "nbformat_minor": 2,
 "metadata": {
  "language_info": {
   "name": "python",
   "codemirror_mode": {
    "name": "ipython",
    "version": 3
   }
  },
  "orig_nbformat": 2,
  "file_extension": ".py",
  "mimetype": "text/x-python",
  "name": "python",
  "npconvert_exporter": "python",
  "pygments_lexer": "ipython3",
  "version": 3
 },
 "cells": [
  {
   "cell_type": "code",
   "execution_count": 29,
   "metadata": {},
   "outputs": [],
   "source": [
    "#Adding Sympy\n",
    "import sympy\n",
    "from sympy import *\n",
    "init_printing(use_latex=\"mathjax\", latex_mode=\"equation\")"
   ]
  },
  {
   "cell_type": "code",
   "execution_count": 53,
   "metadata": {},
   "outputs": [
    {
     "data": {
      "text/latex": "\\begin{equation}- c_{1} \\left(l_{1} Θd \\cos{\\left(Θ \\right)} - yd\\right) + c_{2} \\left(l_{2} Θd \\cos{\\left(Θ \\right)} + yd\\right) - k_{1} \\left(l_{01} + l_{1} \\sin{\\left(Θ \\right)} - y\\right) + k_{2} \\left(- l_{02} + l_{2} \\sin{\\left(Θ \\right)} + y\\right) + m ydd\\end{equation}",
      "text/plain": "-c₁⋅(l₁⋅Θd⋅cos(Θ) - yd) + c₂⋅(l₂⋅Θd⋅cos(Θ) + yd) - k₁⋅(l₀₁ + l₁⋅sin(Θ) - y) + \nk₂⋅(-l₀₂ + l₂⋅sin(Θ) + y) + m⋅ydd"
     },
     "execution_count": 53,
     "metadata": {},
     "output_type": "execute_result"
    }
   ],
   "source": [
    "#Creating all of the symbols that we will use in our equations\n",
    "Θ, Θd, Θdd, y, yd, ydd, l1, l2, l01, l02, k1, k2, c1, c2, m, Jg = symbols('Θ Θd Θdd y yd ydd l1 l2 l01 l02 k1 k2 c1 c2 m Jg')\n",
    "\n",
    "#Equations of motion\n",
    "sumF = m*ydd - k1*(l1*sin(Θ)-(y-l01))-c1*(l1*cos(Θ)*Θd-yd)+k2*(l2*sin(Θ)+y-l02)+c2*(l2*cos(Θ)*Θd+yd)\n",
    "sumM = Jg*Θdd + k1*l1*cos(Θ)*(l1*sin(Θ)-(y-l01)) + c1*l1*cos(Θ)*(l1*cos(Θ)*Θd-yd) + k2*l2*cos(Θ)*(l2*sin(Θ)+y-l02)-c2*l2*cos(Θ)*(l2*cos(Θ)*Θd-yd)\n",
    "\n",
    "#Sum of Forces\n",
    "sumF"
   ]
  },
  {
   "cell_type": "code",
   "execution_count": 54,
   "metadata": {},
   "outputs": [
    {
     "data": {
      "text/latex": "\\begin{equation}Jg Θdd + c_{1} l_{1} \\left(l_{1} Θd \\cos{\\left(Θ \\right)} - yd\\right) \\cos{\\left(Θ \\right)} - c_{2} l_{2} \\left(l_{2} Θd \\cos{\\left(Θ \\right)} - yd\\right) \\cos{\\left(Θ \\right)} + k_{1} l_{1} \\left(l_{01} + l_{1} \\sin{\\left(Θ \\right)} - y\\right) \\cos{\\left(Θ \\right)} + k_{2} l_{2} \\left(- l_{02} + l_{2} \\sin{\\left(Θ \\right)} + y\\right) \\cos{\\left(Θ \\right)}\\end{equation}",
      "text/plain": "Jg⋅Θdd + c₁⋅l₁⋅(l₁⋅Θd⋅cos(Θ) - yd)⋅cos(Θ) - c₂⋅l₂⋅(l₂⋅Θd⋅cos(Θ) - yd)⋅cos(Θ) +\n k₁⋅l₁⋅(l₀₁ + l₁⋅sin(Θ) - y)⋅cos(Θ) + k₂⋅l₂⋅(-l₀₂ + l₂⋅sin(Θ) + y)⋅cos(Θ)"
     },
     "execution_count": 54,
     "metadata": {},
     "output_type": "execute_result"
    }
   ],
   "source": [
    "#Sum of Moments\n",
    "sumM"
   ]
  },
  {
   "cell_type": "code",
   "execution_count": 69,
   "metadata": {},
   "outputs": [
    {
     "data": {
      "text/latex": "\\begin{equation}k_{1} l_{1} \\left(l_{01} + l_{1} \\sin{\\left(Θ \\right)} - y\\right) \\cos{\\left(Θ \\right)} + k_{2} l_{2} \\left(- l_{02} + l_{2} \\sin{\\left(Θ \\right)} + y\\right) \\cos{\\left(Θ \\right)}\\end{equation}",
      "text/plain": "k₁⋅l₁⋅(l₀₁ + l₁⋅sin(Θ) - y)⋅cos(Θ) + k₂⋅l₂⋅(-l₀₂ + l₂⋅sin(Θ) + y)⋅cos(Θ)"
     },
     "execution_count": 69,
     "metadata": {},
     "output_type": "execute_result"
    }
   ],
   "source": [
    "#Now let's consider what happens at equilibrium for our equations\n",
    "equilF = sumF.subs([(Θd, 0), (Θdd, 0), (yd, 0), (ydd,0)])\n",
    "equilM = sumM.subs([(Θd, 0), (Θdd, 0), (yd, 0), (ydd,0)])\n",
    "equilM"
   ]
  },
  {
   "cell_type": "code",
   "execution_count": 92,
   "metadata": {},
   "outputs": [
    {
     "ename": "TypeError",
     "evalue": "'module' object is not callable",
     "output_type": "error",
     "traceback": [
      "\u001b[1;31m---------------------------------------------------------------------------\u001b[0m",
      "\u001b[1;31mTypeError\u001b[0m                                 Traceback (most recent call last)",
      "\u001b[1;32m<ipython-input-92-42e46a8281d0>\u001b[0m in \u001b[0;36m<module>\u001b[1;34m\u001b[0m\n\u001b[0;32m      1\u001b[0m \u001b[0ml01F\u001b[0m \u001b[1;33m=\u001b[0m \u001b[0msolve\u001b[0m\u001b[1;33m(\u001b[0m\u001b[0mequilF\u001b[0m\u001b[1;33m,\u001b[0m \u001b[0ml01\u001b[0m\u001b[1;33m)\u001b[0m\u001b[1;33m\u001b[0m\u001b[1;33m\u001b[0m\u001b[0m\n\u001b[1;32m----> 2\u001b[1;33m \u001b[0madd\u001b[0m\u001b[1;33m(\u001b[0m\u001b[0ml01F\u001b[0m\u001b[1;33m)\u001b[0m\u001b[1;33m\u001b[0m\u001b[1;33m\u001b[0m\u001b[0m\n\u001b[0m",
      "\u001b[1;31mTypeError\u001b[0m: 'module' object is not callable"
     ]
    }
   ],
   "source": [
    "l01F = solve(equilF, l01)\n"
   ]
  },
  {
   "cell_type": "code",
   "execution_count": 91,
   "metadata": {},
   "outputs": [
    {
     "data": {
      "text/plain": "sympy.core.add.Add"
     },
     "execution_count": 91,
     "metadata": {},
     "output_type": "execute_result"
    }
   ],
   "source": [
    "equilMN = equilM.subs(l01, (k1*(-l1*sin(Θ)+y)-k2*l02+k2*l2*sin(Θ)+k2*y)/k1)\n",
    "equilMN\n",
    "#solve(equilMN, l02)"
   ]
  },
  {
   "cell_type": "code",
   "execution_count": null,
   "metadata": {},
   "outputs": [],
   "source": []
  }
 ]
}